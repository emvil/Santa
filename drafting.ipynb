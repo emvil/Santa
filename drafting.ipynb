{
 "cells": [
  {
   "cell_type": "code",
   "execution_count": 40,
   "metadata": {},
   "outputs": [
    {
     "name": "stdout",
     "output_type": "stream",
     "text": [
      "The autoreload extension is already loaded. To reload it, use:\n",
      "  %reload_ext autoreload\n"
     ]
    }
   ],
   "source": [
    "import numpy as np\n",
    "import pandas as pd\n",
    "%load_ext autoreload\n",
    "%autoreload 2"
   ]
  },
  {
   "cell_type": "code",
   "execution_count": 66,
   "metadata": {},
   "outputs": [],
   "source": [
    "%run random_tour.py"
   ]
  },
  {
   "cell_type": "code",
   "execution_count": 67,
   "metadata": {},
   "outputs": [
    {
     "data": {
      "text/plain": [
       "(102, 3)"
      ]
     },
     "execution_count": 67,
     "metadata": {},
     "output_type": "execute_result"
    }
   ],
   "source": [
    "random_tour.shape"
   ]
  },
  {
   "cell_type": "code",
   "execution_count": 102,
   "metadata": {},
   "outputs": [],
   "source": [
    "def CreateTenthStepArray(tour):\n",
    "    \"Creates array with zeros where 10th step - first step can be removed\"\n",
    "    tenth_step = np.zeros(len(tour)) # initilise the length of tour\n",
    "    cnt = -1\n",
    "    for x in np.nditer(tenth_step, op_flags=['readwrite']):\n",
    "        cnt += 1\n",
    "        if cnt%10 == 0:\n",
    "            x[...] = 1\n",
    "\n",
    "    return(tenth_step)"
   ]
  },
  {
   "cell_type": "code",
   "execution_count": 128,
   "metadata": {},
   "outputs": [],
   "source": [
    "def CalcCostSimple(tour):\n",
    "    \"\"\"simple function to calc cost function\n",
    "    input\n",
    "    tour, np array, 3 cols: X,Y,prime\n",
    "    \"\"\"\n",
    "    Xdiff = np.diff(tour[:,0])\n",
    "    Ydiff = np.diff(tour[:,1])\n",
    "    \n",
    "    euclid = (Xdiff**2 + Ydiff**2)\n",
    "    \n",
    "    #### L should be carrot penalty\n",
    "    primes_and_tenths = CreateTenthStepArray(tour)[1:] * tour[:,2][1:] # get array with zeros where 10th step and prime city = 1, otherwise 0\n",
    "    print('Number of cities identified as having prime on 10th journey: ', primes_and_tenths.sum())\n",
    "    L = (primes_and_tenths*0.1) + 1 # make array with elements either 1 or 1.1 \n",
    "    \n",
    "    cost = (euclid*L).sum()\n",
    "    \n",
    "    return cost"
   ]
  },
  {
   "cell_type": "code",
   "execution_count": 129,
   "metadata": {},
   "outputs": [
    {
     "name": "stdout",
     "output_type": "stream",
     "text": [
      "Number of cities identified as having prime on 10th journey:  0.0\n"
     ]
    },
    {
     "data": {
      "text/plain": [
       "678712610.62522686"
      ]
     },
     "execution_count": 129,
     "metadata": {},
     "output_type": "execute_result"
    }
   ],
   "source": [
    "CalcCostSimple(random_tour)"
   ]
  },
  {
   "cell_type": "code",
   "execution_count": 117,
   "metadata": {},
   "outputs": [
    {
     "data": {
      "text/plain": [
       "678712610.62522686"
      ]
     },
     "execution_count": 117,
     "metadata": {},
     "output_type": "execute_result"
    }
   ],
   "source": [
    "CalcCostSimple(random_tour)"
   ]
  },
  {
   "cell_type": "code",
   "execution_count": 118,
   "metadata": {},
   "outputs": [
    {
     "data": {
      "text/plain": [
       "678712610.6252269"
      ]
     },
     "execution_count": 118,
     "metadata": {},
     "output_type": "execute_result"
    }
   ],
   "source": [
    "678712610.62522686"
   ]
  },
  {
   "cell_type": "code",
   "execution_count": 112,
   "metadata": {},
   "outputs": [
    {
     "data": {
      "text/plain": [
       "102"
      ]
     },
     "execution_count": 112,
     "metadata": {},
     "output_type": "execute_result"
    }
   ],
   "source": [
    "len(random_tour)"
   ]
  },
  {
   "cell_type": "code",
   "execution_count": 115,
   "metadata": {},
   "outputs": [
    {
     "data": {
      "text/plain": [
       "(102,)"
      ]
     },
     "execution_count": 115,
     "metadata": {},
     "output_type": "execute_result"
    }
   ],
   "source": [
    "random_tour[:,2].shape"
   ]
  },
  {
   "cell_type": "code",
   "execution_count": 109,
   "metadata": {},
   "outputs": [
    {
     "data": {
      "text/plain": [
       "array([ 0.,  0.,  0.,  0.,  0.,  0.,  0.,  0.,  0.,  0.,  0.,  0.,  0.,\n",
       "        0.,  0.,  0.,  0.,  0.,  0.,  0.,  0.,  0.,  0.,  0.,  0.,  0.,\n",
       "        0.,  0.,  0.,  0.,  0.,  0.,  0.,  0.,  0.,  0.,  0.,  0.,  0.,\n",
       "        1.,  0.,  0.,  0.,  0.,  0.,  0.,  0.,  0.,  0.,  0.,  0.,  0.,\n",
       "        0.,  0.,  0.,  0.,  0.,  0.,  0.,  0.,  0.,  0.,  0.,  0.,  0.,\n",
       "        0.,  0.,  0.,  0.,  0.,  0.,  0.,  0.,  0.,  0.,  0.,  0.,  0.,\n",
       "        0.,  0.,  0.,  0.,  0.,  0.,  0.,  0.,  0.,  0.,  0.,  0.,  0.,\n",
       "        0.,  0.,  0.,  0.,  0.,  0.,  0.,  0.,  0.,  0.])"
      ]
     },
     "execution_count": 109,
     "metadata": {},
     "output_type": "execute_result"
    }
   ],
   "source": [
    "CreateTenthStepArray(random_tour)[1:] * cities[:,2]"
   ]
  },
  {
   "cell_type": "code",
   "execution_count": 111,
   "metadata": {},
   "outputs": [
    {
     "data": {
      "text/plain": [
       "(101,)"
      ]
     },
     "execution_count": 111,
     "metadata": {},
     "output_type": "execute_result"
    }
   ],
   "source": [
    "CreateTenthStepArray(random_tour)[1:].shape"
   ]
  },
  {
   "cell_type": "code",
   "execution_count": 110,
   "metadata": {},
   "outputs": [
    {
     "data": {
      "text/plain": [
       "(101, 3)"
      ]
     },
     "execution_count": 110,
     "metadata": {},
     "output_type": "execute_result"
    }
   ],
   "source": [
    "cities.shape"
   ]
  },
  {
   "cell_type": "code",
   "execution_count": 101,
   "metadata": {},
   "outputs": [
    {
     "data": {
      "text/plain": [
       "102"
      ]
     },
     "execution_count": 101,
     "metadata": {},
     "output_type": "execute_result"
    }
   ],
   "source": [
    "len(random_tour)"
   ]
  },
  {
   "cell_type": "code",
   "execution_count": 100,
   "metadata": {},
   "outputs": [
    {
     "data": {
      "text/plain": [
       "102"
      ]
     },
     "execution_count": 100,
     "metadata": {},
     "output_type": "execute_result"
    }
   ],
   "source": [
    "random_tour.shape[0]"
   ]
  },
  {
   "cell_type": "code",
   "execution_count": 93,
   "metadata": {},
   "outputs": [
    {
     "data": {
      "text/plain": [
       "array([ 1.,  1.,  1.,  1.,  1.,  1.,  1.,  1.,  1.,  1.,  1.,  1.,  1.,\n",
       "        1.,  1.,  1.,  1.,  1.,  1.,  1.])"
      ]
     },
     "execution_count": 93,
     "metadata": {},
     "output_type": "execute_result"
    }
   ],
   "source": [
    "\n",
    "    \n",
    "X"
   ]
  },
  {
   "cell_type": "code",
   "execution_count": 69,
   "metadata": {},
   "outputs": [
    {
     "data": {
      "text/plain": [
       "678712610.62522686"
      ]
     },
     "execution_count": 69,
     "metadata": {},
     "output_type": "execute_result"
    }
   ],
   "source": [
    "CalcCostSimple(random_tour)"
   ]
  },
  {
   "cell_type": "code",
   "execution_count": 70,
   "metadata": {},
   "outputs": [
    {
     "name": "stdout",
     "output_type": "stream",
     "text": [
      "15.6 µs ± 372 ns per loop (mean ± std. dev. of 7 runs, 10000 loops each)\n"
     ]
    }
   ],
   "source": [
    "%%timeit\n",
    "CalcCostSimple(random_tour)"
   ]
  },
  {
   "cell_type": "code",
   "execution_count": 65,
   "metadata": {},
   "outputs": [
    {
     "data": {
      "text/plain": [
       "592097566.12679625"
      ]
     },
     "execution_count": 65,
     "metadata": {},
     "output_type": "execute_result"
    }
   ],
   "source": [
    "CalcCostSimple(random_tour)"
   ]
  },
  {
   "cell_type": "code",
   "execution_count": null,
   "metadata": {},
   "outputs": [],
   "source": []
  },
  {
   "cell_type": "code",
   "execution_count": 45,
   "metadata": {},
   "outputs": [
    {
     "data": {
      "text/plain": [
       "(101,)"
      ]
     },
     "execution_count": 45,
     "metadata": {},
     "output_type": "execute_result"
    }
   ],
   "source": [
    "np.diff(random_tour[:,0]).shape"
   ]
  },
  {
   "cell_type": "code",
   "execution_count": 61,
   "metadata": {},
   "outputs": [
    {
     "data": {
      "text/plain": [
       "array([ 1.1,  1.1,  1.1,  1.1,  1.1,  1.1,  1.1,  1.1,  1.1,  1.1,  1.1,\n",
       "        1.1,  1.1,  1.1,  1.1,  1.1,  1.1,  1.1,  1.1,  1.1,  1.1,  1.1,\n",
       "        1.1,  1.1,  1.1,  1.1,  1.1,  1.1,  1.1,  1.1,  1.1,  1.1,  1.1,\n",
       "        1.1,  1.1,  1.1,  1.1,  1.1,  1.1,  1.1,  1.1,  1.1,  1.1,  1.1,\n",
       "        1.1,  1.1,  1.1,  1.1,  1.1,  1.1,  1.1,  1.1,  1.1,  1.1,  1.1,\n",
       "        1.1,  1.1,  1.1,  1.1,  1.1,  1.1,  1.1,  1.1,  1.1,  1.1,  1.1,\n",
       "        1.1,  1.1,  1.1,  1.1,  1.1,  1.1,  1.1,  1.1,  1.1,  1.1,  1.1,\n",
       "        1.1,  1.1,  1.1,  1.1,  1.1,  1.1,  1.1,  1.1,  1.1,  1.1,  1.1,\n",
       "        1.1,  1.1,  1.1,  1.1,  1.1,  1.1,  1.1,  1.1,  1.1,  1.1,  1.1,\n",
       "        1.1,  1.1,  1.1])"
      ]
     },
     "execution_count": 61,
     "metadata": {},
     "output_type": "execute_result"
    }
   ],
   "source": [
    "X = np.ones((random_tour[:,1].shape))\n",
    "X*1.1"
   ]
  },
  {
   "cell_type": "code",
   "execution_count": 59,
   "metadata": {},
   "outputs": [
    {
     "data": {
      "text/plain": [
       "array([ 1.,  1.,  1.,  1.,  1.,  1.,  1.,  1.,  1.,  1.,  1.,  1.,  1.,\n",
       "        1.,  1.,  1.,  1.,  1.,  1.,  1.,  1.,  1.,  1.,  1.,  1.,  1.,\n",
       "        1.,  1.,  1.,  1.,  1.,  1.,  1.,  1.,  1.,  1.,  1.,  1.,  1.,\n",
       "        1.,  1.,  1.,  1.,  1.,  1.,  1.,  1.,  1.,  1.,  1.,  1.,  1.,\n",
       "        1.,  1.,  1.,  1.,  1.,  1.,  1.,  1.,  1.,  1.,  1.,  1.,  1.,\n",
       "        1.,  1.,  1.,  1.,  1.,  1.,  1.,  1.,  1.,  1.,  1.,  1.,  1.,\n",
       "        1.,  1.,  1.,  1.,  1.,  1.,  1.,  1.,  1.,  1.,  1.,  1.,  1.,\n",
       "        1.,  1.,  1.,  1.,  1.,  1.,  1.,  1.,  1.,  1.,  1.])"
      ]
     },
     "execution_count": 59,
     "metadata": {},
     "output_type": "execute_result"
    }
   ],
   "source": [
    "cnt = 0\n",
    "for i in X:\n",
    "    cnt += 1"
   ]
  },
  {
   "cell_type": "code",
   "execution_count": 50,
   "metadata": {},
   "outputs": [
    {
     "data": {
      "text/plain": [
       "array([ 0.,  0.,  0.,  0.,  0.,  0.,  0.,  0.,  0.,  0.,  0.,  0.,  1.,\n",
       "        0.,  0.,  0.,  0.,  1.,  0.,  0.,  1.,  1.,  0.,  0.,  0.,  0.,\n",
       "        0.,  0.,  0.,  0.,  0.,  0.,  0.,  1.,  0.,  0.,  0.,  0.,  0.,\n",
       "        1.,  1.,  0.,  0.,  0.,  0.,  0.,  0.,  0.,  0.,  0.,  0.,  0.,\n",
       "        0.,  0.,  0.,  0.,  0.,  0.,  0.,  0.,  1.,  1.,  0.,  0.,  0.,\n",
       "        0.,  0.,  0.,  0.,  0.,  0.,  0.,  0.,  0.,  0.,  0.,  0.,  0.,\n",
       "        0.,  0.,  0.,  0.,  0.,  0.,  0.,  0.,  0.,  0.,  0.,  0.,  0.,\n",
       "        0.,  0.,  0.,  0.,  0.,  0.,  1.,  1.,  0.,  0.])"
      ]
     },
     "execution_count": 50,
     "metadata": {},
     "output_type": "execute_result"
    }
   ],
   "source": [
    "cities[:,2]"
   ]
  },
  {
   "cell_type": "code",
   "execution_count": null,
   "metadata": {},
   "outputs": [],
   "source": []
  },
  {
   "cell_type": "code",
   "execution_count": null,
   "metadata": {},
   "outputs": [],
   "source": []
  },
  {
   "cell_type": "code",
   "execution_count": null,
   "metadata": {},
   "outputs": [],
   "source": []
  },
  {
   "cell_type": "code",
   "execution_count": 43,
   "metadata": {},
   "outputs": [
    {
     "ename": "SyntaxError",
     "evalue": "'break' outside loop (<ipython-input-43-6aaf1f276005>, line 1)",
     "output_type": "error",
     "traceback": [
      "\u001b[1;36m  File \u001b[1;32m\"<ipython-input-43-6aaf1f276005>\"\u001b[1;36m, line \u001b[1;32m1\u001b[0m\n\u001b[1;33m    break\u001b[0m\n\u001b[1;37m         ^\u001b[0m\n\u001b[1;31mSyntaxError\u001b[0m\u001b[1;31m:\u001b[0m 'break' outside loop\n"
     ]
    }
   ],
   "source": [
    "break"
   ]
  },
  {
   "cell_type": "code",
   "execution_count": 8,
   "metadata": {},
   "outputs": [],
   "source": [
    "from utils import GetCityArray, GetStartCityFromArray, RemoveCityFromArray"
   ]
  },
  {
   "cell_type": "code",
   "execution_count": 11,
   "metadata": {},
   "outputs": [],
   "source": [
    "cities= GetCityArray('./data/clean_s100.csv')\n",
    "\n",
    "start_city = GetStartCityFromArray(cities)\n",
    "\n",
    "cities = RemoveCityFromArray(cities)"
   ]
  },
  {
   "cell_type": "code",
   "execution_count": 21,
   "metadata": {},
   "outputs": [
    {
     "data": {
      "text/plain": [
       "(100, 3)"
      ]
     },
     "execution_count": 21,
     "metadata": {},
     "output_type": "execute_result"
    }
   ],
   "source": [
    "np.random.shuffle(cities)"
   ]
  },
  {
   "cell_type": "code",
   "execution_count": 32,
   "metadata": {},
   "outputs": [
    {
     "data": {
      "text/plain": [
       "(3,)"
      ]
     },
     "execution_count": 32,
     "metadata": {},
     "output_type": "execute_result"
    }
   ],
   "source": [
    "start_city.shape"
   ]
  },
  {
   "cell_type": "code",
   "execution_count": 35,
   "metadata": {},
   "outputs": [
    {
     "data": {
      "text/plain": [
       "array([  316.83673906,  2202.34070734,     0.        ])"
      ]
     },
     "execution_count": 35,
     "metadata": {},
     "output_type": "execute_result"
    }
   ],
   "source": [
    "start_city"
   ]
  },
  {
   "cell_type": "code",
   "execution_count": 38,
   "metadata": {},
   "outputs": [],
   "source": [
    "start_city = start_city.reshape(1,-1)"
   ]
  },
  {
   "cell_type": "code",
   "execution_count": 39,
   "metadata": {},
   "outputs": [
    {
     "data": {
      "text/plain": [
       "array([[  3.16836739e+02,   2.20234071e+03,   0.00000000e+00],\n",
       "       [  3.69731291e+03,   2.72293091e+03,   0.00000000e+00],\n",
       "       [  2.66009599e+03,   2.02636793e+03,   0.00000000e+00],\n",
       "       [  2.83955708e+03,   3.24092635e+03,   0.00000000e+00],\n",
       "       [  4.57616180e+03,   2.08404995e+03,   1.00000000e+00],\n",
       "       [  4.79579604e+03,   1.84328572e+03,   0.00000000e+00],\n",
       "       [  4.85728263e+03,   2.88245512e+03,   0.00000000e+00],\n",
       "       [  2.49009930e+03,   2.12262943e+03,   1.00000000e+00],\n",
       "       [  2.41401843e+03,   3.07049446e+02,   0.00000000e+00],\n",
       "       [  2.03560635e+03,   1.03226741e+03,   0.00000000e+00],\n",
       "       [  3.34772923e+03,   2.96124261e+03,   0.00000000e+00],\n",
       "       [  3.44798899e+03,   3.14559625e+02,   0.00000000e+00],\n",
       "       [  3.64921174e+02,   2.25413440e+03,   0.00000000e+00],\n",
       "       [  1.51461954e+02,   2.42594178e+03,   0.00000000e+00],\n",
       "       [  1.38225470e+03,   2.91966994e+03,   0.00000000e+00],\n",
       "       [  4.40235307e+03,   1.04473714e+03,   0.00000000e+00],\n",
       "       [  4.33118376e+03,   2.11787406e+03,   0.00000000e+00],\n",
       "       [  4.14776992e+03,   3.07817278e+03,   0.00000000e+00],\n",
       "       [  1.56269680e+03,   2.71830797e+03,   0.00000000e+00],\n",
       "       [  4.21639561e+03,   2.54953430e+03,   1.00000000e+00],\n",
       "       [  2.89020721e+03,   1.66740719e+03,   0.00000000e+00],\n",
       "       [  2.91217737e+03,   2.20535814e+03,   0.00000000e+00],\n",
       "       [  1.40076602e+03,   9.23414227e+02,   0.00000000e+00],\n",
       "       [  2.94270822e+02,   2.88293735e+03,   0.00000000e+00],\n",
       "       [  4.47964336e+03,   2.47271313e+02,   1.00000000e+00],\n",
       "       [  1.72200996e+03,   2.43797674e+03,   0.00000000e+00],\n",
       "       [  4.62330123e+03,   2.20244025e+03,   0.00000000e+00],\n",
       "       [  4.72370597e+03,   7.48312046e+02,   0.00000000e+00],\n",
       "       [  4.60955334e+02,   2.04903459e+03,   0.00000000e+00],\n",
       "       [  4.92234673e+03,   1.74852053e+03,   0.00000000e+00],\n",
       "       [  9.47249843e+02,   2.90599017e+03,   1.00000000e+00],\n",
       "       [  2.75947328e+03,   1.89887042e+03,   0.00000000e+00],\n",
       "       [  2.02817616e+03,   8.73585202e+02,   0.00000000e+00],\n",
       "       [  1.54477451e+03,   1.36501836e+02,   0.00000000e+00],\n",
       "       [  2.71119991e+03,   5.26585194e+02,   0.00000000e+00],\n",
       "       [  4.22213987e+03,   2.75642454e+03,   0.00000000e+00],\n",
       "       [  4.94446200e+03,   2.18536118e+03,   0.00000000e+00],\n",
       "       [  5.01344771e+03,   3.24566922e+03,   0.00000000e+00],\n",
       "       [  1.60791040e+02,   2.41376929e+03,   0.00000000e+00],\n",
       "       [  4.92636769e+03,   3.03269569e+03,   0.00000000e+00],\n",
       "       [  4.71628614e+03,   2.64282562e+03,   1.00000000e+00],\n",
       "       [  2.18200531e+03,   3.25500802e+03,   0.00000000e+00],\n",
       "       [  3.09958071e+03,   2.49976722e+02,   0.00000000e+00],\n",
       "       [  5.02817961e+03,   3.00332418e+03,   0.00000000e+00],\n",
       "       [  2.76001473e+03,   1.53367103e+03,   0.00000000e+00],\n",
       "       [  4.88527148e+03,   2.55693146e+03,   0.00000000e+00],\n",
       "       [  4.95977740e+03,   2.88646774e+03,   0.00000000e+00],\n",
       "       [  1.09774624e+03,   3.03456507e+03,   0.00000000e+00],\n",
       "       [  4.66291566e+03,   1.58886235e+03,   0.00000000e+00],\n",
       "       [  3.28644504e+03,   2.35716307e+03,   0.00000000e+00],\n",
       "       [  1.18249884e+03,   3.14147669e+03,   0.00000000e+00],\n",
       "       [  2.88926499e+03,   7.93259095e+02,   0.00000000e+00],\n",
       "       [  2.50905464e+03,   1.59531154e+03,   0.00000000e+00],\n",
       "       [  1.19219154e+03,   3.10677117e+03,   0.00000000e+00],\n",
       "       [  2.75022727e+03,   1.69932928e+03,   0.00000000e+00],\n",
       "       [  2.61788482e+03,   1.15582999e+02,   0.00000000e+00],\n",
       "       [  2.69942068e+03,   1.03056421e+03,   0.00000000e+00],\n",
       "       [  1.18180061e+03,   4.13773756e+02,   0.00000000e+00],\n",
       "       [  7.68235968e+02,   1.39455472e+03,   1.00000000e+00],\n",
       "       [  2.13815318e+03,   2.58328888e+03,   0.00000000e+00],\n",
       "       [  1.86957444e+03,   6.20988924e+02,   0.00000000e+00],\n",
       "       [  2.95566379e+03,   1.28057922e+03,   0.00000000e+00],\n",
       "       [  4.48365967e+03,   6.76724353e+02,   0.00000000e+00],\n",
       "       [  3.83160590e+03,   7.95616972e+02,   0.00000000e+00],\n",
       "       [  2.95391901e+03,   2.32332147e+03,   0.00000000e+00],\n",
       "       [  3.75642597e+03,   5.73343664e+02,   0.00000000e+00],\n",
       "       [  2.00146805e+03,   3.44156094e+02,   0.00000000e+00],\n",
       "       [  4.42637090e+03,   2.85861628e+03,   0.00000000e+00],\n",
       "       [  4.29053755e+03,   1.99071122e+03,   0.00000000e+00],\n",
       "       [  3.28940985e+03,   2.83792859e+03,   0.00000000e+00],\n",
       "       [  4.35158963e+03,   1.24631929e+03,   0.00000000e+00],\n",
       "       [  4.85828610e+02,   2.72018789e+03,   0.00000000e+00],\n",
       "       [  4.31149312e+03,   2.07591894e+02,   0.00000000e+00],\n",
       "       [  1.91534615e+03,   2.33911636e+03,   0.00000000e+00],\n",
       "       [  5.54224631e+02,   3.21459703e+03,   0.00000000e+00],\n",
       "       [  4.48890619e+03,   1.76561672e+03,   0.00000000e+00],\n",
       "       [  3.57737916e+03,   3.04520747e+03,   0.00000000e+00],\n",
       "       [  1.14083522e+03,   3.04838753e+02,   0.00000000e+00],\n",
       "       [  3.73014418e+03,   9.96416749e+02,   0.00000000e+00],\n",
       "       [  4.68777157e+03,   2.17978242e+03,   0.00000000e+00],\n",
       "       [  1.49891885e+03,   2.97064206e+03,   0.00000000e+00],\n",
       "       [  1.24931944e+02,   2.92852112e+03,   0.00000000e+00],\n",
       "       [  3.73474019e+03,   3.22467424e+03,   1.00000000e+00],\n",
       "       [  7.74081667e+02,   2.20553393e+03,   0.00000000e+00],\n",
       "       [  4.79399872e+03,   2.40440753e+03,   0.00000000e+00],\n",
       "       [  3.66173265e+03,   2.07855478e+03,   0.00000000e+00],\n",
       "       [  4.71311980e+03,   1.93544031e+03,   0.00000000e+00],\n",
       "       [  4.48514733e+03,   3.21155067e+03,   1.00000000e+00],\n",
       "       [  4.58863821e+03,   2.80681627e+03,   0.00000000e+00],\n",
       "       [  4.37745794e+03,   1.85549096e+03,   1.00000000e+00],\n",
       "       [  2.93493482e+03,   1.12887481e+03,   0.00000000e+00],\n",
       "       [  3.14080602e+03,   2.36224063e+03,   0.00000000e+00],\n",
       "       [  3.03867522e+03,   1.32133971e+03,   0.00000000e+00],\n",
       "       [  4.79318563e+03,   3.16943589e+03,   1.00000000e+00],\n",
       "       [  2.72429548e+03,   3.29937241e+03,   0.00000000e+00],\n",
       "       [  3.43047089e+03,   2.61009902e+03,   0.00000000e+00],\n",
       "       [  1.58022533e+03,   1.02742479e+03,   0.00000000e+00],\n",
       "       [  4.33801156e+03,   1.04929988e+03,   0.00000000e+00],\n",
       "       [  4.43330068e+03,   4.63635021e+02,   0.00000000e+00],\n",
       "       [  6.85950510e+02,   1.59115222e+03,   0.00000000e+00],\n",
       "       [  3.65830579e+03,   2.35521990e+03,   0.00000000e+00],\n",
       "       [  3.16836739e+02,   2.20234071e+03,   0.00000000e+00]])"
      ]
     },
     "execution_count": 39,
     "metadata": {},
     "output_type": "execute_result"
    }
   ],
   "source": [
    "np.concatenate((start_city,cities,start_city),axis=0)"
   ]
  },
  {
   "cell_type": "code",
   "execution_count": 31,
   "metadata": {},
   "outputs": [
    {
     "data": {
      "text/plain": [
       "(1, 3)"
      ]
     },
     "execution_count": 31,
     "metadata": {},
     "output_type": "execute_result"
    }
   ],
   "source": [
    "start_city.reshape(1,-1).shape"
   ]
  },
  {
   "cell_type": "code",
   "execution_count": 25,
   "metadata": {},
   "outputs": [
    {
     "data": {
      "text/plain": [
       "(100, 3)"
      ]
     },
     "execution_count": 25,
     "metadata": {},
     "output_type": "execute_result"
    }
   ],
   "source": [
    "cities.shape"
   ]
  },
  {
   "cell_type": "code",
   "execution_count": null,
   "metadata": {},
   "outputs": [],
   "source": []
  },
  {
   "cell_type": "code",
   "execution_count": 22,
   "metadata": {},
   "outputs": [
    {
     "name": "stdout",
     "output_type": "stream",
     "text": [
      "[[0 1 2]\n",
      " [3 4 5]\n",
      " [6 7 8]]\n"
     ]
    },
    {
     "data": {
      "text/plain": [
       "array([[6, 7, 8],\n",
       "       [0, 1, 2],\n",
       "       [3, 4, 5]])"
      ]
     },
     "execution_count": 22,
     "metadata": {},
     "output_type": "execute_result"
    }
   ],
   "source": [
    "arr = np.arange(9).reshape((3, 3))\n",
    "print(arr)\n",
    "np.random.shuffle(arr)\n",
    "arr"
   ]
  },
  {
   "cell_type": "code",
   "execution_count": null,
   "metadata": {},
   "outputs": [],
   "source": []
  },
  {
   "cell_type": "code",
   "execution_count": 3,
   "metadata": {},
   "outputs": [
    {
     "data": {
      "text/html": [
       "<div>\n",
       "<style scoped>\n",
       "    .dataframe tbody tr th:only-of-type {\n",
       "        vertical-align: middle;\n",
       "    }\n",
       "\n",
       "    .dataframe tbody tr th {\n",
       "        vertical-align: top;\n",
       "    }\n",
       "\n",
       "    .dataframe thead th {\n",
       "        text-align: right;\n",
       "    }\n",
       "</style>\n",
       "<table border=\"1\" class=\"dataframe\">\n",
       "  <thead>\n",
       "    <tr style=\"text-align: right;\">\n",
       "      <th></th>\n",
       "      <th>CityId</th>\n",
       "      <th>X</th>\n",
       "      <th>Y</th>\n",
       "      <th>prime</th>\n",
       "    </tr>\n",
       "  </thead>\n",
       "  <tbody>\n",
       "    <tr>\n",
       "      <th>0</th>\n",
       "      <td>0</td>\n",
       "      <td>316.836739</td>\n",
       "      <td>2202.340707</td>\n",
       "      <td>0</td>\n",
       "    </tr>\n",
       "    <tr>\n",
       "      <th>1</th>\n",
       "      <td>15079</td>\n",
       "      <td>2889.264992</td>\n",
       "      <td>793.259095</td>\n",
       "      <td>0</td>\n",
       "    </tr>\n",
       "    <tr>\n",
       "      <th>2</th>\n",
       "      <td>166894</td>\n",
       "      <td>3577.379159</td>\n",
       "      <td>3045.207474</td>\n",
       "      <td>0</td>\n",
       "    </tr>\n",
       "    <tr>\n",
       "      <th>3</th>\n",
       "      <td>188954</td>\n",
       "      <td>2182.005310</td>\n",
       "      <td>3255.008018</td>\n",
       "      <td>0</td>\n",
       "    </tr>\n",
       "    <tr>\n",
       "      <th>4</th>\n",
       "      <td>142701</td>\n",
       "      <td>160.791040</td>\n",
       "      <td>2413.769294</td>\n",
       "      <td>0</td>\n",
       "    </tr>\n",
       "  </tbody>\n",
       "</table>\n",
       "</div>"
      ],
      "text/plain": [
       "   CityId            X            Y  prime\n",
       "0       0   316.836739  2202.340707      0\n",
       "1   15079  2889.264992   793.259095      0\n",
       "2  166894  3577.379159  3045.207474      0\n",
       "3  188954  2182.005310  3255.008018      0\n",
       "4  142701   160.791040  2413.769294      0"
      ]
     },
     "execution_count": 3,
     "metadata": {},
     "output_type": "execute_result"
    }
   ],
   "source": [
    "df =pd.read_csv('./data/clean_s100.csv')\n",
    "df.head()"
   ]
  },
  {
   "cell_type": "code",
   "execution_count": 11,
   "metadata": {},
   "outputs": [],
   "source": [
    "cities = df[['X','Y']].values\n",
    "primes = df['prime'].values"
   ]
  },
  {
   "cell_type": "code",
   "execution_count": 13,
   "metadata": {},
   "outputs": [
    {
     "data": {
      "text/plain": [
       "(101,)"
      ]
     },
     "execution_count": 13,
     "metadata": {},
     "output_type": "execute_result"
    }
   ],
   "source": [
    "primes.shape"
   ]
  },
  {
   "cell_type": "code",
   "execution_count": 14,
   "metadata": {},
   "outputs": [
    {
     "data": {
      "text/plain": [
       "(101, 2)"
      ]
     },
     "execution_count": 14,
     "metadata": {},
     "output_type": "execute_result"
    }
   ],
   "source": [
    "cities.shape"
   ]
  },
  {
   "cell_type": "code",
   "execution_count": 28,
   "metadata": {},
   "outputs": [],
   "source": [
    "from utils import GetCityArray"
   ]
  },
  {
   "cell_type": "code",
   "execution_count": 29,
   "metadata": {},
   "outputs": [],
   "source": [
    "cities,primes = GetCityArray('./data/clean_s100.csv')"
   ]
  },
  {
   "cell_type": "code",
   "execution_count": 30,
   "metadata": {},
   "outputs": [
    {
     "data": {
      "text/plain": [
       "(101, 2)"
      ]
     },
     "execution_count": 30,
     "metadata": {},
     "output_type": "execute_result"
    }
   ],
   "source": [
    "cities.shape"
   ]
  },
  {
   "cell_type": "code",
   "execution_count": 33,
   "metadata": {},
   "outputs": [
    {
     "data": {
      "text/plain": [
       "array([  316.83673906,  2202.34070734])"
      ]
     },
     "execution_count": 33,
     "metadata": {},
     "output_type": "execute_result"
    }
   ],
   "source": [
    "start = cities[0,:]\n",
    "start"
   ]
  },
  {
   "cell_type": "code",
   "execution_count": 45,
   "metadata": {},
   "outputs": [],
   "source": [
    "cities_popped_top = np.delete(cities,[0],axis=0)"
   ]
  },
  {
   "cell_type": "code",
   "execution_count": 50,
   "metadata": {},
   "outputs": [
    {
     "data": {
      "text/plain": [
       "(100,)"
      ]
     },
     "execution_count": 50,
     "metadata": {},
     "output_type": "execute_result"
    }
   ],
   "source": [
    "np.delete(primes,[0],axis=0).shape"
   ]
  },
  {
   "cell_type": "code",
   "execution_count": null,
   "metadata": {},
   "outputs": [],
   "source": []
  },
  {
   "cell_type": "code",
   "execution_count": null,
   "metadata": {},
   "outputs": [],
   "source": []
  },
  {
   "cell_type": "code",
   "execution_count": null,
   "metadata": {},
   "outputs": [],
   "source": []
  }
 ],
 "metadata": {
  "kernelspec": {
   "display_name": "Python [default]",
   "language": "python",
   "name": "python3"
  },
  "language_info": {
   "codemirror_mode": {
    "name": "ipython",
    "version": 3
   },
   "file_extension": ".py",
   "mimetype": "text/x-python",
   "name": "python",
   "nbconvert_exporter": "python",
   "pygments_lexer": "ipython3",
   "version": "3.5.3"
  }
 },
 "nbformat": 4,
 "nbformat_minor": 2
}
